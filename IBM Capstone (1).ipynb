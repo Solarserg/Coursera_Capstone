{
 "cells": [
  {
   "cell_type": "markdown",
   "metadata": {},
   "source": [
    "### Problem to be solved\n",
    "A realtor from Royal Oak, MI is looking to start expanding into Detroit, MI. He has noticed there is an increase in demand from his clients to buy property in Detroit, but he is not too familiar with the city. He wants to quickly get a better idea of which neighborhoods are similar. This will allow him to quickly learn to navigate his way around Detroit and demonstrate to his clients he is knowledgeable about the many neighborhoods and which are similar to each other. By knowing which neighborhoods are similar to each other this will also allow him to visit a couple neighborhoods in each cluster and quickly get a feel for how other neighborhoods in the same cluster would be like in terms of venues near each neighborhood\n"
   ]
  },
  {
   "cell_type": "markdown",
   "metadata": {},
   "source": [
    "### Data Needed\n",
    "To solve this problem we will need the lat/long coordinates of each neighborhood in Detroit. We will also need to access foursquare and get the venue data for all venues within each neighborhood. The radius for the neighborhoods venue request data will be determined by mapping the neighborhoods and determining an appropriate radius.\n"
   ]
  }
 ],
 "metadata": {
  "kernelspec": {
   "display_name": "Python",
   "language": "python",
   "name": "conda-env-python-py"
  },
  "language_info": {
   "codemirror_mode": {
    "name": "ipython",
    "version": 3
   },
   "file_extension": ".py",
   "mimetype": "text/x-python",
   "name": "python",
   "nbconvert_exporter": "python",
   "pygments_lexer": "ipython3",
   "version": "3.6.10"
  }
 },
 "nbformat": 4,
 "nbformat_minor": 4
}
